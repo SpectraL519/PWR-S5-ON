{
 "cells": [
  {
   "cell_type": "code",
   "execution_count": null,
   "metadata": {},
   "outputs": [],
   "source": [
    "# Jakub Musiał 268442\n",
    "\n",
    "import matplotlib.pyplot as plt\n",
    "import pandas as pd"
   ]
  },
  {
   "cell_type": "code",
   "execution_count": null,
   "metadata": {},
   "outputs": [],
   "source": [
    "def benchmark_result_file(lu: bool, use_partial_pivot: bool, use_dict_matrix: bool) -> str:\n",
    "    dictriminator = (\n",
    "        (\"_lu\" if lu else \"\") +\n",
    "        (\"_pivot\" if use_partial_pivot else \"\") +\n",
    "        (\"_dict\" if use_dict_matrix else \"\")\n",
    "    )\n",
    "    return \"data/benchmark\" + dictriminator + \".csv\""
   ]
  },
  {
   "cell_type": "code",
   "execution_count": null,
   "metadata": {},
   "outputs": [],
   "source": [
    "def plot_time_comp(savefig: bool = False):\n",
    "    def plt_label(lu: bool, use_partial_pivot: bool, use_dict_matrix: bool) -> str:\n",
    "        return (\n",
    "            (\"with LU \" if lu else \"\") +\n",
    "            (\"with partial pivoting \" if use_partial_pivot else \"\") +\n",
    "            (\"using dict impl\" if use_dict_matrix else \"using specialied impl\")\n",
    "        )\n",
    "\n",
    "    plt.figure(figsize=(10, 7))\n",
    "    plt.title(\"Average $Ax = b$ solving time\")\n",
    "\n",
    "    colors = ['black', 'blue', 'aqua', 'green', 'lime', 'red', 'orange', 'purple']\n",
    "    cidx = 0\n",
    "\n",
    "    for lu in [False, True]:\n",
    "        for use_partial_pivot in [False, True]:\n",
    "            for use_dict_matrix in [False, True]:\n",
    "                print(benchmark_result_file(lu, use_partial_pivot, use_dict_matrix))\n",
    "                df = pd.read_csv(benchmark_result_file(lu, use_partial_pivot, use_dict_matrix))\n",
    "                plt.plot(\n",
    "                    df['n'], df['T_{avg}'],\n",
    "                    label = plt_label(lu, use_partial_pivot, use_dict_matrix),\n",
    "                    color = colors[cidx]\n",
    "                )\n",
    "                cidx += 1\n",
    "\n",
    "    plt.legend()\n",
    "    plt.xlabel(\"$n$ - size of the coordinate matrix $A$\")\n",
    "\n",
    "    if savefig:\n",
    "        plt.savefig(\"img/avg_time.png\", bbox_inches='tight', pad_inches=0.1)\n",
    "\n",
    "    plt.show();"
   ]
  },
  {
   "cell_type": "code",
   "execution_count": null,
   "metadata": {},
   "outputs": [],
   "source": [
    "def plot_error_comp(lu: bool, savefig: bool = False):\n",
    "    plt.figure(figsize=(10, 7))\n",
    "    plt.title(\n",
    "        \"$Ax = b$ result error\" +\n",
    "        (\" (using LU distribution)\" if lu else \"\")\n",
    "    )\n",
    "\n",
    "    colors = ['black', 'blue', 'aqua', 'green', 'lime', 'red', 'orange', 'purple']\n",
    "    cidx = 0\n",
    "\n",
    "    for use_partial_pivot in [False, True]:\n",
    "        print(benchmark_result_file(lu, use_partial_pivot, use_dict_matrix=False))\n",
    "        df = pd.read_csv(benchmark_result_file(lu, use_partial_pivot, use_dict_matrix=False))\n",
    "        plt.plot(\n",
    "            df['n'], df['\\delta'],\n",
    "            label = \"with partial pivoting \" if use_partial_pivot else \"without partial pivoting\",\n",
    "            color = colors[cidx]\n",
    "        )\n",
    "        cidx += 1\n",
    "\n",
    "    plt.legend()\n",
    "    plt.xlabel(\"$n$ - size of the coordinate matrix $A$\")\n",
    "\n",
    "    if savefig:\n",
    "        plt.savefig(\n",
    "            \"img/error\" + (\"_lu\" if lu else \"\") + \".png\",\n",
    "            bbox_inches='tight', pad_inches=0.1\n",
    "        )\n",
    "\n",
    "    plt.show();"
   ]
  },
  {
   "cell_type": "code",
   "execution_count": null,
   "metadata": {},
   "outputs": [],
   "source": [
    "plot_time_comp()\n",
    "for lu in [False, True]:\n",
    "    plot_error_comp(lu)"
   ]
  }
 ],
 "metadata": {
  "kernelspec": {
   "display_name": "base",
   "language": "python",
   "name": "python3"
  },
  "language_info": {
   "codemirror_mode": {
    "name": "ipython",
    "version": 3
   },
   "file_extension": ".py",
   "mimetype": "text/x-python",
   "name": "python",
   "nbconvert_exporter": "python",
   "pygments_lexer": "ipython3",
   "version": "3.9.13"
  }
 },
 "nbformat": 4,
 "nbformat_minor": 2
}
