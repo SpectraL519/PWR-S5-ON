{
 "cells": [
  {
   "cell_type": "markdown",
   "metadata": {},
   "source": [
    "### Jakub Musiał 268442"
   ]
  },
  {
   "cell_type": "code",
   "execution_count": null,
   "metadata": {},
   "outputs": [],
   "source": [
    "import matplotlib.pyplot as plt\n",
    "import numpy as np"
   ]
  },
  {
   "cell_type": "code",
   "execution_count": null,
   "metadata": {},
   "outputs": [],
   "source": [
    "experiments = [\n",
    "    (np.float64(-2), np.float64(1)),\n",
    "    (np.float64(-2), np.float64(2)),\n",
    "    (np.float64(-2), np.float64(1.99999999999999)),\n",
    "    (np.float64(-1), np.float64(1)),\n",
    "    (np.float64(-1), np.float64(-1)),\n",
    "    (np.float64(-1), np.float64(0.75)),\n",
    "    (np.float64(-1), np.float64(0.25))\n",
    "]"
   ]
  },
  {
   "cell_type": "code",
   "execution_count": null,
   "metadata": {},
   "outputs": [],
   "source": [
    "def phi(x: np.float64, c: np.float64) -> np.float64:\n",
    "    return x ** 2 + c"
   ]
  },
  {
   "cell_type": "code",
   "execution_count": null,
   "metadata": {},
   "outputs": [],
   "source": [
    "def plot_experiment(x_0: np.float64, c: np.float64, save: str = None):\n",
    "    fig = plt.figure(figsize=(8, 6))\n",
    "\n",
    "    # f(x) = x\n",
    "    X = np.linspace(-2, 2, 500)\n",
    "    plt.plot(\n",
    "        X, X, \n",
    "        c='gray', linestyle=':', linewidth=2,\n",
    "        label='$f(x) = x$'\n",
    "    )\n",
    "\n",
    "    # phi function\n",
    "    Y = phi(X, c)\n",
    "    plt.plot(\n",
    "        X, Y, \n",
    "        c='black', linestyle=':', linewidth=2,\n",
    "        label=f'$\\Phi(x) = x^2 - {c}$'\n",
    "    )\n",
    "\n",
    "    # fixed points\n",
    "    delta = 1 - 4 * c # x = x^2 + c -> x^2 - x + c = 0\n",
    "    alpha_1, alpha_2 = None, None\n",
    "\n",
    "    if delta >= 0:\n",
    "        alpha_1 = (1 - np.sqrt(delta)) / 2\n",
    "        alpha_2 = (1 + np.sqrt(delta)) / 2\n",
    "\n",
    "    # x_n sequence\n",
    "    X = [x_0]\n",
    "    Y = [0]\n",
    "    for _ in range(40):\n",
    "        x_n = X[-1]\n",
    "        X.append(x_n)\n",
    "        Y.append(phi(x_n, c))\n",
    "        if delta >= 0:\n",
    "            if (\n",
    "                (X[-1] == alpha_1 and Y[-1] == phi(alpha_1, c)) or \n",
    "                (X[-1] == alpha_2 and Y[-1] == phi(alpha_2, c))\n",
    "            ):\n",
    "                break\n",
    "\n",
    "        X.append(Y[-1])\n",
    "        Y.append(Y[-1])\n",
    "        if delta >= 0:\n",
    "            if (\n",
    "                (X[-1] == alpha_1 and Y[-1] == phi(alpha_1, c)) or \n",
    "                (X[-1] == alpha_2 and Y[-1] == phi(alpha_2, c))\n",
    "            ):\n",
    "                break\n",
    "\n",
    "    plt.plot(X, Y, c='blue', linewidth=2, marker='o', markersize=3)\n",
    "\n",
    "    if delta >= 0:\n",
    "        plt.scatter(\n",
    "            [alpha_1, alpha_2], [phi(alpha_1, c), phi(alpha_2, c)],\n",
    "            c='red', s=30,\n",
    "            label='punkty stałe'\n",
    "        )\n",
    "\n",
    "    plt.title(f'Iteracje ciągu $x_n$ dla $x_0 = {x_0}$ i $c = {c}$')\n",
    "    plt.xlabel('$x$')\n",
    "    plt.ylabel('$\\Phi(x)$', rotation=0)\n",
    "    plt.legend()\n",
    "    plt.grid(True)\n",
    "\n",
    "    if save:\n",
    "        plt.savefig(save)\n",
    "    plt.show();"
   ]
  },
  {
   "cell_type": "code",
   "execution_count": null,
   "metadata": {},
   "outputs": [],
   "source": [
    "for (i, (c, x_0)) in enumerate(experiments):\n",
    "    plot_experiment(x_0, c, save=f'report/img/ex6_{i + 1}.png')"
   ]
  },
  {
   "cell_type": "code",
   "execution_count": null,
   "metadata": {},
   "outputs": [],
   "source": []
  }
 ],
 "metadata": {
  "kernelspec": {
   "display_name": "base",
   "language": "python",
   "name": "python3"
  },
  "language_info": {
   "codemirror_mode": {
    "name": "ipython",
    "version": 3
   },
   "file_extension": ".py",
   "mimetype": "text/x-python",
   "name": "python",
   "nbconvert_exporter": "python",
   "pygments_lexer": "ipython3",
   "version": "3.11.4"
  }
 },
 "nbformat": 4,
 "nbformat_minor": 2
}
